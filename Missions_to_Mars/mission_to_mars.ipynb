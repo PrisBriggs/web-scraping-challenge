{
 "cells": [
  {
   "cell_type": "code",
   "execution_count": null,
   "id": "98f5282a",
   "metadata": {},
   "outputs": [],
   "source": [
    "# Dependencies\n",
    "import json\n",
    "import pandas as pd\n",
    "import requests\n",
    "import pymongo\n",
    "\n",
    "from splinter import Browser\n",
    "from bs4 import BeautifulSoup as bs\n",
    "from webdriver_manager.chrome import ChromeDriverManager"
   ]
  },
  {
   "cell_type": "code",
   "execution_count": null,
   "id": "536f4759",
   "metadata": {},
   "outputs": [],
   "source": [
    "# Setup splinter\n",
    "executable_path = {'executable_path': ChromeDriverManager().install()}\n",
    "executable_path = {\"executable_path\": \"/usr/local/bin/chromedriver\"}\n",
    "browser = Browser('chrome', **executable_path, headless=False)"
   ]
  },
  {
   "cell_type": "markdown",
   "id": "c153c217",
   "metadata": {},
   "source": [
    "## Step 1 - Scraping"
   ]
  },
  {
   "cell_type": "markdown",
   "id": "fabc304b",
   "metadata": {},
   "source": [
    "### NASA Mars News"
   ]
  },
  {
   "cell_type": "code",
   "execution_count": null,
   "id": "41b68df7",
   "metadata": {},
   "outputs": [],
   "source": [
    "# Have the browser navigate to the webpage and copy the content\n",
    "# URL for NASA Mars News\n",
    "url = 'https://redplanetscience.com/'\n",
    "browser.visit(url)\n",
    "html = browser.html\n",
    "soup = bs(html, 'html.parser')"
   ]
  },
  {
   "cell_type": "code",
   "execution_count": null,
   "id": "94300aa9",
   "metadata": {},
   "outputs": [],
   "source": [
    "# Visualize the webpage\n",
    "print(soup.prettify())"
   ]
  },
  {
   "cell_type": "code",
   "execution_count": null,
   "id": "bf67b8cb",
   "metadata": {},
   "outputs": [],
   "source": [
    "# Extract the title of the HTML document\n",
    "soup.title\n",
    "print(soup.title.text.strip())"
   ]
  },
  {
   "cell_type": "code",
   "execution_count": null,
   "id": "2d8cff80",
   "metadata": {},
   "outputs": [],
   "source": [
    "# Find the title related to the latest News\n",
    "news_title = soup.find('div', class_='content_title')\n",
    "print(news_title.text.strip())"
   ]
  },
  {
   "cell_type": "code",
   "execution_count": null,
   "id": "b1c741be",
   "metadata": {},
   "outputs": [],
   "source": [
    "# Find the paragraph text related to the latest News\n",
    "news_p = soup.find('div', class_='article_teaser_body')\n",
    "print(news_p.text.strip())"
   ]
  },
  {
   "cell_type": "markdown",
   "id": "2192c4c9",
   "metadata": {},
   "source": [
    "### JPL Mars Space Images - Featured Image"
   ]
  },
  {
   "cell_type": "code",
   "execution_count": null,
   "id": "871d9f69",
   "metadata": {},
   "outputs": [],
   "source": [
    "# Have the browser navigate to the webpage and copy the content\n",
    "# URL for JPL Mars Space Images - Featured Image\n",
    "url1 = 'https://spaceimages-mars.com'\n",
    "browser.visit(url1)\n",
    "html1 = browser.html\n",
    "soup1 = bs(html1, 'html.parser')"
   ]
  },
  {
   "cell_type": "code",
   "execution_count": null,
   "id": "23406216",
   "metadata": {},
   "outputs": [],
   "source": [
    "# Visualize the webpage in a better way\n",
    "print(soup1.prettify())"
   ]
  },
  {
   "cell_type": "code",
   "execution_count": null,
   "id": "0efe1c6f",
   "metadata": {},
   "outputs": [],
   "source": [
    "# Find the featured image\n",
    "img = soup1.find('img', class_='headerimage fade-in').get('src')\n",
    "featured_image_url = ['https://spaceimages-mars.com/' + img]\n",
    "print(featured_image_url[0])"
   ]
  },
  {
   "cell_type": "code",
   "execution_count": null,
   "id": "8ca18cb3",
   "metadata": {},
   "outputs": [],
   "source": [
    "# Display the image with IPython.display\n",
    "from IPython.display import Image\n",
    "Image(url=featured_image_url[0])"
   ]
  },
  {
   "cell_type": "markdown",
   "id": "b6f50719",
   "metadata": {},
   "source": [
    "### Mars Facts"
   ]
  },
  {
   "cell_type": "code",
   "execution_count": null,
   "id": "a423f116",
   "metadata": {},
   "outputs": [],
   "source": [
    "# URL for Mars Facts\n",
    "url2 = 'https://galaxyfacts-mars.com'"
   ]
  },
  {
   "cell_type": "code",
   "execution_count": null,
   "id": "d561fe38",
   "metadata": {},
   "outputs": [],
   "source": [
    "# Use Pandas to automatically scrape the tabular data from the page.\n",
    "table = pd.read_html(url2)\n",
    "table"
   ]
  },
  {
   "cell_type": "code",
   "execution_count": null,
   "id": "4ffbb3a0",
   "metadata": {},
   "outputs": [],
   "source": [
    "# Transform table in dataframe.\n",
    "df = table[0]\n",
    "df.rename(columns=df.iloc[0,:], inplace=True)\n",
    "df.head()"
   ]
  },
  {
   "cell_type": "code",
   "execution_count": null,
   "id": "fc17b22e",
   "metadata": {},
   "outputs": [],
   "source": [
    "# Convert data to html table string.\n",
    "html_table = df.to_html()\n",
    "html_table"
   ]
  },
  {
   "cell_type": "code",
   "execution_count": null,
   "id": "c738b4fc",
   "metadata": {},
   "outputs": [],
   "source": [
    "# Strip unwanted newlines to clean up the table.\n",
    "html_table.replace('\\n', '')"
   ]
  },
  {
   "cell_type": "markdown",
   "id": "70836af2",
   "metadata": {},
   "source": [
    "### Mars Hemispheres"
   ]
  },
  {
   "cell_type": "code",
   "execution_count": null,
   "id": "ca158bb1",
   "metadata": {},
   "outputs": [],
   "source": [
    "# URL for Mars Hemispheres\n",
    "url3 = 'https://marshemispheres.com/'\n",
    "browser.visit(url3)"
   ]
  },
  {
   "cell_type": "code",
   "execution_count": null,
   "id": "5a964798",
   "metadata": {},
   "outputs": [],
   "source": [
    "# Design an XPATH selector to grab the images\n",
    "xpath = '//*[@id=\"product-section\"]/div[2]/div[1]/a/img'"
   ]
  },
  {
   "cell_type": "code",
   "execution_count": null,
   "id": "b89f4a85",
   "metadata": {},
   "outputs": [],
   "source": [
    "# Use splinter to Click the Mars image \n",
    "# to bring up the full resolution image\n",
    "results = browser.find_by_xpath(xpath)\n",
    "img = results[0]\n",
    "img.click()"
   ]
  },
  {
   "cell_type": "code",
   "execution_count": null,
   "id": "185a78b8",
   "metadata": {},
   "outputs": [],
   "source": [
    "# Scrape the browser into soup and use soup to find the full resolution image of mars\n",
    "# Save the image url to a variable called `img_url`\n",
    "html3 = browser.html\n",
    "soup3 = bs(html3, 'html.parser')\n",
    "img_url = soup3.find(\"img\", class_=\"jpg\")[\"src\"]\n",
    "img_url"
   ]
  },
  {
   "cell_type": "code",
   "execution_count": null,
   "id": "83df2f92",
   "metadata": {},
   "outputs": [],
   "source": [
    "# Use the requests library to download and save the image from the `img_url` above\n",
    "import requests\n",
    "import shutil\n",
    "response = requests.get(img_url, stream=True)\n",
    "with open('img.png', 'wb') as out_file:\n",
    "    shutil.copyfileobj(response.raw, out_file)"
   ]
  },
  {
   "cell_type": "code",
   "execution_count": null,
   "id": "8d60b0d0",
   "metadata": {},
   "outputs": [],
   "source": [
    "# Display the image with IPython.display\n",
    "from IPython.display import Image\n",
    "Image(url='img.png')"
   ]
  },
  {
   "cell_type": "code",
   "execution_count": null,
   "id": "a70bc749",
   "metadata": {},
   "outputs": [],
   "source": [
    "browser.quit()"
   ]
  }
 ],
 "metadata": {
  "kernelspec": {
   "display_name": "PythonData",
   "language": "python",
   "name": "pythondata"
  },
  "language_info": {
   "codemirror_mode": {
    "name": "ipython",
    "version": 3
   },
   "file_extension": ".py",
   "mimetype": "text/x-python",
   "name": "python",
   "nbconvert_exporter": "python",
   "pygments_lexer": "ipython3",
   "version": "3.9.13"
  }
 },
 "nbformat": 4,
 "nbformat_minor": 5
}
